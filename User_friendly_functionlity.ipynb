{
 "cells": [
  {
   "cell_type": "code",
   "execution_count": 10,
   "id": "8359a8b1",
   "metadata": {},
   "outputs": [
    {
     "name": "stdout",
     "output_type": "stream",
     "text": [
      "Top relevant results:\n",
      "1. play\n",
      "2. outdoor play\n",
      "3. children's play\n",
      "4. pretend play p\n",
      "5. play phone\n"
     ]
    }
   ],
   "source": [
    "import pandas as pd\n",
    "from nltk.tokenize import word_tokenize\n",
    "from nltk.corpus import stopwords\n",
    "from nltk.stem import PorterStemmer\n",
    "from sklearn.feature_extraction.text import TfidfVectorizer\n",
    "from sklearn.metrics.pairwise import cosine_similarity\n",
    "\n",
    "# Load the CSV dataset\n",
    "df = pd.read_csv(\"queries.csv\")  # Replace with the actual path to your CSV file\n",
    "query_column = \"query\"  # Replace with the column name containing the queries\n",
    "\n",
    "# Extract queries from the dataset\n",
    "queries = df[query_column].tolist()\n",
    "\n",
    "# Preprocessing\n",
    "def preprocess(query):\n",
    "    stop_words = set(stopwords.words(\"english\"))\n",
    "    ps = PorterStemmer()\n",
    "    \n",
    "    words = word_tokenize(query)\n",
    "    words = [ps.stem(w) for w in words if w not in stop_words]\n",
    "    \n",
    "    return \" \".join(words)\n",
    "\n",
    "# Preprocess queries\n",
    "preprocessed_queries = [preprocess(query) for query in queries]\n",
    "\n",
    "# User query\n",
    "user_query =  \"play\"\n",
    "preprocessed_user_query = preprocess(user_query)\n",
    "\n",
    "# TF-IDF Vectorization\n",
    "vectorizer = TfidfVectorizer()\n",
    "tfidf_matrix = vectorizer.fit_transform(preprocessed_queries)\n",
    "query_vector = vectorizer.transform([preprocessed_user_query])\n",
    "\n",
    "# Calculate cosine similarities\n",
    "cosine_similarities = cosine_similarity(query_vector, tfidf_matrix).flatten()\n",
    "\n",
    "# Rank and display top results\n",
    "top_indices = cosine_similarities.argsort()[-5:][::-1]\n",
    "top_results = [queries[i] for i in top_indices]\n",
    "print(\"Top relevant results:\")\n",
    "for i, result in enumerate(top_results, start=1):\n",
    "    print(f\"{i}. {result}\")\n"
   ]
  },
  {
   "cell_type": "code",
   "execution_count": 11,
   "id": "7cc9effd",
   "metadata": {},
   "outputs": [],
   "source": [
    "import pandas as pd\n",
    "from nltk.tokenize import word_tokenize\n",
    "from nltk.corpus import stopwords\n",
    "from nltk.stem import PorterStemmer\n",
    "from sklearn.feature_extraction.text import TfidfVectorizer\n",
    "from sklearn.metrics.pairwise import cosine_similarity\n"
   ]
  },
  {
   "cell_type": "markdown",
   "id": "9b550715",
   "metadata": {},
   "source": [
    "### Load the CSV dataset"
   ]
  },
  {
   "cell_type": "code",
   "execution_count": 13,
   "id": "dc2446e4",
   "metadata": {},
   "outputs": [],
   "source": [
    "df = pd.read_csv(\"queries.csv\")\n",
    "query_column = \"query\""
   ]
  },
  {
   "cell_type": "markdown",
   "id": "20bbe44f",
   "metadata": {},
   "source": [
    " ### Extract queries from the dataset"
   ]
  },
  {
   "cell_type": "code",
   "execution_count": 14,
   "id": "2f2cabac",
   "metadata": {},
   "outputs": [],
   "source": [
    "queries = df[query_column].tolist()"
   ]
  },
  {
   "cell_type": "markdown",
   "id": "0d81c859",
   "metadata": {},
   "source": [
    "### Preprocessing"
   ]
  },
  {
   "cell_type": "code",
   "execution_count": 15,
   "id": "1028aedc",
   "metadata": {},
   "outputs": [],
   "source": [
    "def preprocess(query):\n",
    "    stop_words = set(stopwords.words(\"english\"))\n",
    "    ps = PorterStemmer()\n",
    "    \n",
    "    words = word_tokenize(query)\n",
    "    words = [ps.stem(w) for w in words if w not in stop_words]\n",
    "    \n",
    "    return \" \".join(words)\n"
   ]
  },
  {
   "cell_type": "markdown",
   "id": "6959d213",
   "metadata": {},
   "source": [
    "### Preprocess queries"
   ]
  },
  {
   "cell_type": "code",
   "execution_count": 16,
   "id": "3d7baf2c",
   "metadata": {},
   "outputs": [],
   "source": [
    "preprocessed_queries = [preprocess(query) for query in queries]\n"
   ]
  },
  {
   "cell_type": "markdown",
   "id": "12e8aa17",
   "metadata": {},
   "source": [
    "### User query"
   ]
  },
  {
   "cell_type": "code",
   "execution_count": 17,
   "id": "7c770769",
   "metadata": {},
   "outputs": [],
   "source": [
    "user_query =  \"play\"\n",
    "preprocessed_user_query = preprocess(user_query)"
   ]
  },
  {
   "cell_type": "markdown",
   "id": "1becbf09",
   "metadata": {},
   "source": [
    "## TF-IDF Vectorization"
   ]
  },
  {
   "cell_type": "code",
   "execution_count": 18,
   "id": "4267be91",
   "metadata": {},
   "outputs": [],
   "source": [
    "vectorizer = TfidfVectorizer()\n",
    "tfidf_matrix = vectorizer.fit_transform(preprocessed_queries)\n",
    "query_vector = vectorizer.transform([preprocessed_user_query])\n"
   ]
  },
  {
   "cell_type": "markdown",
   "id": "f0c70104",
   "metadata": {},
   "source": [
    "### Calculate cosine similarities"
   ]
  },
  {
   "cell_type": "code",
   "execution_count": 20,
   "id": "051e690d",
   "metadata": {},
   "outputs": [],
   "source": [
    "cosine_similarities = cosine_similarity(query_vector, tfidf_matrix).flatten()\n"
   ]
  },
  {
   "cell_type": "markdown",
   "id": "f3fc5646",
   "metadata": {},
   "source": [
    "### Rank and display top results"
   ]
  },
  {
   "cell_type": "code",
   "execution_count": 21,
   "id": "b065682c",
   "metadata": {},
   "outputs": [
    {
     "name": "stdout",
     "output_type": "stream",
     "text": [
      "Top relevant results:\n",
      "1. play\n",
      "2. outdoor play\n",
      "3. children's play\n",
      "4. pretend play p\n",
      "5. play phone\n"
     ]
    }
   ],
   "source": [
    "top_indices = cosine_similarities.argsort()[-5:][::-1]\n",
    "top_results = [queries[i] for i in top_indices]\n",
    "print(\"Top relevant results:\")\n",
    "for i, result in enumerate(top_results, start=1):\n",
    "    print(f\"{i}. {result}\")"
   ]
  },
  {
   "cell_type": "code",
   "execution_count": null,
   "id": "6a172c49",
   "metadata": {},
   "outputs": [],
   "source": []
  }
 ],
 "metadata": {
  "kernelspec": {
   "display_name": "Python 3 (ipykernel)",
   "language": "python",
   "name": "python3"
  },
  "language_info": {
   "codemirror_mode": {
    "name": "ipython",
    "version": 3
   },
   "file_extension": ".py",
   "mimetype": "text/x-python",
   "name": "python",
   "nbconvert_exporter": "python",
   "pygments_lexer": "ipython3",
   "version": "3.10.0"
  }
 },
 "nbformat": 4,
 "nbformat_minor": 5
}
